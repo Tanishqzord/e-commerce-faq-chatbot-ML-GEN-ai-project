{
 "cells": [
  {
   "cell_type": "code",
   "execution_count": 2,
   "id": "5eec0ddd",
   "metadata": {},
   "outputs": [
    {
     "ename": "ImportError",
     "evalue": "cannot import name 'OfflineModeIsEnabled' from 'huggingface_hub.utils' (C:\\Users\\pc\\anaconda3\\Lib\\site-packages\\huggingface_hub\\utils\\__init__.py)",
     "output_type": "error",
     "traceback": [
      "\u001b[1;31m---------------------------------------------------------------------------\u001b[0m",
      "\u001b[1;31mImportError\u001b[0m                               Traceback (most recent call last)",
      "Cell \u001b[1;32mIn[2], line 10\u001b[0m\n\u001b[0;32m      1\u001b[0m \u001b[38;5;66;03m#pip intsall tensorflow\u001b[39;00m\n\u001b[0;32m      2\u001b[0m \u001b[38;5;66;03m#pip intsall flask\u001b[39;00m\n\u001b[0;32m      3\u001b[0m \u001b[38;5;66;03m#pip install sentence_transformers\u001b[39;00m\n\u001b[0;32m      4\u001b[0m \u001b[38;5;66;03m#pip install transformers\u001b[39;00m\n\u001b[0;32m      5\u001b[0m \u001b[38;5;66;03m#pip install pytorch\u001b[39;00m\n\u001b[0;32m      9\u001b[0m \u001b[38;5;28;01mfrom\u001b[39;00m \u001b[38;5;21;01mflask\u001b[39;00m \u001b[38;5;28;01mimport\u001b[39;00m Flask, request, jsonify, render_template\n\u001b[1;32m---> 10\u001b[0m \u001b[38;5;28;01mfrom\u001b[39;00m \u001b[38;5;21;01mtransformers\u001b[39;00m \u001b[38;5;28;01mimport\u001b[39;00m pipeline\n\u001b[0;32m     11\u001b[0m \u001b[38;5;28;01mimport\u001b[39;00m \u001b[38;5;21;01mjson\u001b[39;00m\n\u001b[0;32m     12\u001b[0m \u001b[38;5;28;01mfrom\u001b[39;00m \u001b[38;5;21;01msentence_transformers\u001b[39;00m \u001b[38;5;28;01mimport\u001b[39;00m SentenceTransformer, util\n",
      "File \u001b[1;32m~\\anaconda3\\Lib\\site-packages\\transformers\\__init__.py:26\u001b[0m\n\u001b[0;32m     23\u001b[0m \u001b[38;5;28;01mfrom\u001b[39;00m \u001b[38;5;21;01mtyping\u001b[39;00m \u001b[38;5;28;01mimport\u001b[39;00m TYPE_CHECKING\n\u001b[0;32m     25\u001b[0m \u001b[38;5;66;03m# Check the dependencies satisfy the minimal versions required.\u001b[39;00m\n\u001b[1;32m---> 26\u001b[0m \u001b[38;5;28;01mfrom\u001b[39;00m \u001b[38;5;21;01m.\u001b[39;00m \u001b[38;5;28;01mimport\u001b[39;00m dependency_versions_check\n\u001b[0;32m     27\u001b[0m \u001b[38;5;28;01mfrom\u001b[39;00m \u001b[38;5;21;01m.\u001b[39;00m\u001b[38;5;21;01mutils\u001b[39;00m \u001b[38;5;28;01mimport\u001b[39;00m (\n\u001b[0;32m     28\u001b[0m     OptionalDependencyNotAvailable,\n\u001b[0;32m     29\u001b[0m     _LazyModule,\n\u001b[1;32m   (...)\u001b[0m\n\u001b[0;32m     48\u001b[0m     logging,\n\u001b[0;32m     49\u001b[0m )\n\u001b[0;32m     52\u001b[0m logger \u001b[38;5;241m=\u001b[39m logging\u001b[38;5;241m.\u001b[39mget_logger(\u001b[38;5;18m__name__\u001b[39m)  \u001b[38;5;66;03m# pylint: disable=invalid-name\u001b[39;00m\n",
      "File \u001b[1;32m~\\anaconda3\\Lib\\site-packages\\transformers\\dependency_versions_check.py:16\u001b[0m\n\u001b[0;32m      1\u001b[0m \u001b[38;5;66;03m# Copyright 2020 The HuggingFace Team. All rights reserved.\u001b[39;00m\n\u001b[0;32m      2\u001b[0m \u001b[38;5;66;03m#\u001b[39;00m\n\u001b[0;32m      3\u001b[0m \u001b[38;5;66;03m# Licensed under the Apache License, Version 2.0 (the \"License\");\u001b[39;00m\n\u001b[1;32m   (...)\u001b[0m\n\u001b[0;32m     12\u001b[0m \u001b[38;5;66;03m# See the License for the specific language governing permissions and\u001b[39;00m\n\u001b[0;32m     13\u001b[0m \u001b[38;5;66;03m# limitations under the License.\u001b[39;00m\n\u001b[0;32m     15\u001b[0m \u001b[38;5;28;01mfrom\u001b[39;00m \u001b[38;5;21;01m.\u001b[39;00m\u001b[38;5;21;01mdependency_versions_table\u001b[39;00m \u001b[38;5;28;01mimport\u001b[39;00m deps\n\u001b[1;32m---> 16\u001b[0m \u001b[38;5;28;01mfrom\u001b[39;00m \u001b[38;5;21;01m.\u001b[39;00m\u001b[38;5;21;01mutils\u001b[39;00m\u001b[38;5;21;01m.\u001b[39;00m\u001b[38;5;21;01mversions\u001b[39;00m \u001b[38;5;28;01mimport\u001b[39;00m require_version, require_version_core\n\u001b[0;32m     19\u001b[0m \u001b[38;5;66;03m# define which module versions we always want to check at run time\u001b[39;00m\n\u001b[0;32m     20\u001b[0m \u001b[38;5;66;03m# (usually the ones defined in `install_requires` in setup.py)\u001b[39;00m\n\u001b[0;32m     21\u001b[0m \u001b[38;5;66;03m#\u001b[39;00m\n\u001b[0;32m     22\u001b[0m \u001b[38;5;66;03m# order specific notes:\u001b[39;00m\n\u001b[0;32m     23\u001b[0m \u001b[38;5;66;03m# - tqdm must be checked before tokenizers\u001b[39;00m\n\u001b[0;32m     25\u001b[0m pkgs_to_check_at_runtime \u001b[38;5;241m=\u001b[39m [\n\u001b[0;32m     26\u001b[0m     \u001b[38;5;124m\"\u001b[39m\u001b[38;5;124mpython\u001b[39m\u001b[38;5;124m\"\u001b[39m,\n\u001b[0;32m     27\u001b[0m     \u001b[38;5;124m\"\u001b[39m\u001b[38;5;124mtqdm\u001b[39m\u001b[38;5;124m\"\u001b[39m,\n\u001b[1;32m   (...)\u001b[0m\n\u001b[0;32m     37\u001b[0m     \u001b[38;5;124m\"\u001b[39m\u001b[38;5;124mpyyaml\u001b[39m\u001b[38;5;124m\"\u001b[39m,\n\u001b[0;32m     38\u001b[0m ]\n",
      "File \u001b[1;32m~\\anaconda3\\Lib\\site-packages\\transformers\\utils\\__init__.py:71\u001b[0m\n\u001b[0;32m     29\u001b[0m \u001b[38;5;28;01mfrom\u001b[39;00m \u001b[38;5;21;01m.\u001b[39;00m\u001b[38;5;21;01mdoc\u001b[39;00m \u001b[38;5;28;01mimport\u001b[39;00m (\n\u001b[0;32m     30\u001b[0m     add_code_sample_docstrings,\n\u001b[0;32m     31\u001b[0m     add_end_docstrings,\n\u001b[1;32m   (...)\u001b[0m\n\u001b[0;32m     35\u001b[0m     replace_return_docstrings,\n\u001b[0;32m     36\u001b[0m )\n\u001b[0;32m     37\u001b[0m \u001b[38;5;28;01mfrom\u001b[39;00m \u001b[38;5;21;01m.\u001b[39;00m\u001b[38;5;21;01mgeneric\u001b[39;00m \u001b[38;5;28;01mimport\u001b[39;00m (\n\u001b[0;32m     38\u001b[0m     ContextManagers,\n\u001b[0;32m     39\u001b[0m     ExplicitEnum,\n\u001b[1;32m   (...)\u001b[0m\n\u001b[0;32m     69\u001b[0m     working_or_temp_dir,\n\u001b[0;32m     70\u001b[0m )\n\u001b[1;32m---> 71\u001b[0m \u001b[38;5;28;01mfrom\u001b[39;00m \u001b[38;5;21;01m.\u001b[39;00m\u001b[38;5;21;01mhub\u001b[39;00m \u001b[38;5;28;01mimport\u001b[39;00m (\n\u001b[0;32m     72\u001b[0m     CLOUDFRONT_DISTRIB_PREFIX,\n\u001b[0;32m     73\u001b[0m     HF_MODULES_CACHE,\n\u001b[0;32m     74\u001b[0m     HUGGINGFACE_CO_PREFIX,\n\u001b[0;32m     75\u001b[0m     HUGGINGFACE_CO_RESOLVE_ENDPOINT,\n\u001b[0;32m     76\u001b[0m     PYTORCH_PRETRAINED_BERT_CACHE,\n\u001b[0;32m     77\u001b[0m     PYTORCH_TRANSFORMERS_CACHE,\n\u001b[0;32m     78\u001b[0m     S3_BUCKET_PREFIX,\n\u001b[0;32m     79\u001b[0m     TRANSFORMERS_CACHE,\n\u001b[0;32m     80\u001b[0m     TRANSFORMERS_DYNAMIC_MODULE_NAME,\n\u001b[0;32m     81\u001b[0m     EntryNotFoundError,\n\u001b[0;32m     82\u001b[0m     PushInProgress,\n\u001b[0;32m     83\u001b[0m     PushToHubMixin,\n\u001b[0;32m     84\u001b[0m     RepositoryNotFoundError,\n\u001b[0;32m     85\u001b[0m     RevisionNotFoundError,\n\u001b[0;32m     86\u001b[0m     cached_file,\n\u001b[0;32m     87\u001b[0m     default_cache_path,\n\u001b[0;32m     88\u001b[0m     define_sagemaker_information,\n\u001b[0;32m     89\u001b[0m     download_url,\n\u001b[0;32m     90\u001b[0m     extract_commit_hash,\n\u001b[0;32m     91\u001b[0m     get_cached_models,\n\u001b[0;32m     92\u001b[0m     get_file_from_repo,\n\u001b[0;32m     93\u001b[0m     has_file,\n\u001b[0;32m     94\u001b[0m     http_user_agent,\n\u001b[0;32m     95\u001b[0m     is_offline_mode,\n\u001b[0;32m     96\u001b[0m     is_remote_url,\n\u001b[0;32m     97\u001b[0m     move_cache,\n\u001b[0;32m     98\u001b[0m     send_example_telemetry,\n\u001b[0;32m     99\u001b[0m     try_to_load_from_cache,\n\u001b[0;32m    100\u001b[0m )\n\u001b[0;32m    101\u001b[0m \u001b[38;5;28;01mfrom\u001b[39;00m \u001b[38;5;21;01m.\u001b[39;00m\u001b[38;5;21;01mimport_utils\u001b[39;00m \u001b[38;5;28;01mimport\u001b[39;00m (\n\u001b[0;32m    102\u001b[0m     ACCELERATE_MIN_VERSION,\n\u001b[0;32m    103\u001b[0m     ENV_VARS_TRUE_AND_AUTO_VALUES,\n\u001b[1;32m   (...)\u001b[0m\n\u001b[0;32m    232\u001b[0m     torch_only_method,\n\u001b[0;32m    233\u001b[0m )\n\u001b[0;32m    234\u001b[0m \u001b[38;5;28;01mfrom\u001b[39;00m \u001b[38;5;21;01m.\u001b[39;00m\u001b[38;5;21;01mpeft_utils\u001b[39;00m \u001b[38;5;28;01mimport\u001b[39;00m (\n\u001b[0;32m    235\u001b[0m     ADAPTER_CONFIG_NAME,\n\u001b[0;32m    236\u001b[0m     ADAPTER_SAFE_WEIGHTS_NAME,\n\u001b[1;32m   (...)\u001b[0m\n\u001b[0;32m    239\u001b[0m     find_adapter_config_file,\n\u001b[0;32m    240\u001b[0m )\n",
      "File \u001b[1;32m~\\anaconda3\\Lib\\site-packages\\transformers\\utils\\hub.py:49\u001b[0m\n\u001b[0;32m     34\u001b[0m \u001b[38;5;28;01mfrom\u001b[39;00m \u001b[38;5;21;01mhuggingface_hub\u001b[39;00m \u001b[38;5;28;01mimport\u001b[39;00m (\n\u001b[0;32m     35\u001b[0m     _CACHED_NO_EXIST,\n\u001b[0;32m     36\u001b[0m     CommitOperationAdd,\n\u001b[1;32m   (...)\u001b[0m\n\u001b[0;32m     46\u001b[0m     try_to_load_from_cache,\n\u001b[0;32m     47\u001b[0m )\n\u001b[0;32m     48\u001b[0m \u001b[38;5;28;01mfrom\u001b[39;00m \u001b[38;5;21;01mhuggingface_hub\u001b[39;00m\u001b[38;5;21;01m.\u001b[39;00m\u001b[38;5;21;01mfile_download\u001b[39;00m \u001b[38;5;28;01mimport\u001b[39;00m REGEX_COMMIT_HASH, http_get\n\u001b[1;32m---> 49\u001b[0m \u001b[38;5;28;01mfrom\u001b[39;00m \u001b[38;5;21;01mhuggingface_hub\u001b[39;00m\u001b[38;5;21;01m.\u001b[39;00m\u001b[38;5;21;01mutils\u001b[39;00m \u001b[38;5;28;01mimport\u001b[39;00m (\n\u001b[0;32m     50\u001b[0m     EntryNotFoundError,\n\u001b[0;32m     51\u001b[0m     GatedRepoError,\n\u001b[0;32m     52\u001b[0m     HfHubHTTPError,\n\u001b[0;32m     53\u001b[0m     HFValidationError,\n\u001b[0;32m     54\u001b[0m     LocalEntryNotFoundError,\n\u001b[0;32m     55\u001b[0m     OfflineModeIsEnabled,\n\u001b[0;32m     56\u001b[0m     RepositoryNotFoundError,\n\u001b[0;32m     57\u001b[0m     RevisionNotFoundError,\n\u001b[0;32m     58\u001b[0m     build_hf_headers,\n\u001b[0;32m     59\u001b[0m     get_session,\n\u001b[0;32m     60\u001b[0m     hf_raise_for_status,\n\u001b[0;32m     61\u001b[0m     send_telemetry,\n\u001b[0;32m     62\u001b[0m )\n\u001b[0;32m     63\u001b[0m \u001b[38;5;28;01mfrom\u001b[39;00m \u001b[38;5;21;01mhuggingface_hub\u001b[39;00m\u001b[38;5;21;01m.\u001b[39;00m\u001b[38;5;21;01mutils\u001b[39;00m\u001b[38;5;21;01m.\u001b[39;00m\u001b[38;5;21;01m_deprecation\u001b[39;00m \u001b[38;5;28;01mimport\u001b[39;00m _deprecate_method\n\u001b[0;32m     64\u001b[0m \u001b[38;5;28;01mfrom\u001b[39;00m \u001b[38;5;21;01mrequests\u001b[39;00m\u001b[38;5;21;01m.\u001b[39;00m\u001b[38;5;21;01mexceptions\u001b[39;00m \u001b[38;5;28;01mimport\u001b[39;00m HTTPError\n",
      "\u001b[1;31mImportError\u001b[0m: cannot import name 'OfflineModeIsEnabled' from 'huggingface_hub.utils' (C:\\Users\\pc\\anaconda3\\Lib\\site-packages\\huggingface_hub\\utils\\__init__.py)"
     ]
    }
   ],
   "source": [
    "#pip intsall tensorflow\n",
    "#pip intsall flask\n",
    "#pip install sentence_transformers\n",
    "#pip install transformers\n",
    "#pip install pytorch\n",
    "\n",
    "\n",
    "\n",
    "from flask import Flask, request, jsonify, render_template\n",
    "from transformers import pipeline\n",
    "import json\n",
    "from sentence_transformers import SentenceTransformer, util\n",
    "import warnings\n",
    "warnings.simplefilter(\"ignore\")\n",
    "\n",
    "\n",
    "app = Flask(__name__)\n",
    "\n",
    "\n",
    "\n",
    "\n",
    "# Load the Ecommerce FAQ Chatbot dataset\n",
    "with open('Ecommerce_FAQ_Chatbot_dataset.json', 'r') as f:\n",
    "    faq_data = json.load(f)\n",
    "    \n",
    "    \n",
    "    \n",
    "\n",
    "from sentence_transformers import SentenceTransformer, util\n",
    "\n",
    "# Load a pre-trained sentence transformer model\n",
    "model = SentenceTransformer('all-MiniLM-L6-v2')\n",
    "\n",
    "\n",
    "\n",
    "# Prepare the dataset by encoding all FAQ questions\n",
    "faq_list = faq_data['questions']\n",
    "faq_questions = [item['question'] for item in faq_list]\n",
    "faq_embeddings = model.encode(faq_questions, convert_to_tensor=True)\n",
    "\n",
    "def find_answer(user_question):\n",
    "    # Encode the user's question\n",
    "    question_embedding = model.encode(user_question, convert_to_tensor=True)\n",
    "    \n",
    "    # Compute cosine similarities between the user question and the FAQ questions\n",
    "    similarities = util.pytorch_cos_sim(question_embedding, faq_embeddings)\n",
    "    \n",
    "    # Find the FAQ with the highest similarity score\n",
    "    best_match_idx = similarities.argmax().item()\n",
    "    best_answer = faq_list[best_match_idx]['answer']\n",
    "    \n",
    "    return best_answer\n",
    "\n",
    "@app.route('/')\n",
    "def home():\n",
    "    return render_template('index.html')  # Render the HTML page\n",
    "\n",
    "\n",
    "\n",
    "\n",
    "@app.route('/get_answer', methods=['POST'])\n",
    "def get_answer():\n",
    "    user_question = request.form['question']  # Get the user’s question from the form\n",
    "    answer = find_answer(user_question)  # Find the answer to the question using the transformer\n",
    "    return jsonify({'answer': answer})  # Return the answer as JSON\n",
    "\n",
    "if __name__ == '__main__':\n",
    "    app.run(debug=True)"
   ]
  },
  {
   "cell_type": "code",
   "execution_count": null,
   "id": "a40d9605",
   "metadata": {},
   "outputs": [],
   "source": []
  },
  {
   "cell_type": "code",
   "execution_count": null,
   "id": "7084fba9",
   "metadata": {},
   "outputs": [],
   "source": []
  },
  {
   "cell_type": "code",
   "execution_count": null,
   "id": "8c8a53fc",
   "metadata": {},
   "outputs": [],
   "source": []
  }
 ],
 "metadata": {
  "kernelspec": {
   "display_name": "Python 3 (ipykernel)",
   "language": "python",
   "name": "python3"
  },
  "language_info": {
   "codemirror_mode": {
    "name": "ipython",
    "version": 3
   },
   "file_extension": ".py",
   "mimetype": "text/x-python",
   "name": "python",
   "nbconvert_exporter": "python",
   "pygments_lexer": "ipython3",
   "version": "3.11.5"
  }
 },
 "nbformat": 4,
 "nbformat_minor": 5
}
