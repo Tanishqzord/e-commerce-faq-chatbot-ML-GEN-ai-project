{
 "cells": [
  {
   "cell_type": "code",
   "execution_count": 1,
   "id": "3dc2fd11",
   "metadata": {},
   "outputs": [],
   "source": [
    "from nbconvert import PythonExporter\n",
    "import nbformat\n",
    "\n",
    "with open(\"app.ipynb\",'r') as notebook_file:\n",
    "    notebook_content = nbformat.read(notebook_file,as_version=4)\n",
    "\n",
    "pe = PythonExporter()\n",
    "(script, _) = pe.from_notebook_node(notebook_content)\n",
    "with open(\"app.py\",'w') as script_file:\n",
    "    script_file.write(script)"
   ]
  },
  {
   "cell_type": "code",
   "execution_count": 2,
   "id": "9d57fddd",
   "metadata": {},
   "outputs": [
    {
     "data": {
      "text/plain": [
       "'C:\\\\Users\\\\pc'"
      ]
     },
     "execution_count": 2,
     "metadata": {},
     "output_type": "execute_result"
    }
   ],
   "source": [
    "pwd"
   ]
  },
  {
   "cell_type": "code",
   "execution_count": null,
   "id": "61795f44",
   "metadata": {},
   "outputs": [],
   "source": []
  }
 ],
 "metadata": {
  "kernelspec": {
   "display_name": "Python 3 (ipykernel)",
   "language": "python",
   "name": "python3"
  },
  "language_info": {
   "codemirror_mode": {
    "name": "ipython",
    "version": 3
   },
   "file_extension": ".py",
   "mimetype": "text/x-python",
   "name": "python",
   "nbconvert_exporter": "python",
   "pygments_lexer": "ipython3",
   "version": "3.11.5"
  }
 },
 "nbformat": 4,
 "nbformat_minor": 5
}
